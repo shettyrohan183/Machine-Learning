{
 "cells": [
  {
   "cell_type": "code",
   "execution_count": 1,
   "id": "06824268",
   "metadata": {},
   "outputs": [],
   "source": [
    "import pandas as pd\n",
    "import numpy as np\n",
    "import matplotlib.pyplot as plt\n",
    "import sklearn\n",
    "from sklearn  import preprocessing\n",
    "from sklearn.model_selection import train_test_split\n",
    "import seaborn as sns"
   ]
  },
  {
   "cell_type": "code",
   "execution_count": 2,
   "id": "cb6b4ace",
   "metadata": {},
   "outputs": [],
   "source": [
    "data = pd.read_csv(\"Datasets/balance-scale2.csv\")"
   ]
  },
  {
   "cell_type": "code",
   "execution_count": 3,
   "id": "be1ab748",
   "metadata": {},
   "outputs": [
    {
     "data": {
      "text/html": [
       "<div>\n",
       "<style scoped>\n",
       "    .dataframe tbody tr th:only-of-type {\n",
       "        vertical-align: middle;\n",
       "    }\n",
       "\n",
       "    .dataframe tbody tr th {\n",
       "        vertical-align: top;\n",
       "    }\n",
       "\n",
       "    .dataframe thead th {\n",
       "        text-align: right;\n",
       "    }\n",
       "</style>\n",
       "<table border=\"1\" class=\"dataframe\">\n",
       "  <thead>\n",
       "    <tr style=\"text-align: right;\">\n",
       "      <th></th>\n",
       "      <th>Class</th>\n",
       "      <th>L-Weight</th>\n",
       "      <th>L-Distance</th>\n",
       "      <th>R-Weight</th>\n",
       "      <th>R-Distance</th>\n",
       "    </tr>\n",
       "  </thead>\n",
       "  <tbody>\n",
       "    <tr>\n",
       "      <th>0</th>\n",
       "      <td>B</td>\n",
       "      <td>1</td>\n",
       "      <td>1</td>\n",
       "      <td>1</td>\n",
       "      <td>1</td>\n",
       "    </tr>\n",
       "    <tr>\n",
       "      <th>1</th>\n",
       "      <td>R</td>\n",
       "      <td>1</td>\n",
       "      <td>1</td>\n",
       "      <td>1</td>\n",
       "      <td>2</td>\n",
       "    </tr>\n",
       "    <tr>\n",
       "      <th>2</th>\n",
       "      <td>R</td>\n",
       "      <td>1</td>\n",
       "      <td>1</td>\n",
       "      <td>1</td>\n",
       "      <td>3</td>\n",
       "    </tr>\n",
       "    <tr>\n",
       "      <th>3</th>\n",
       "      <td>R</td>\n",
       "      <td>1</td>\n",
       "      <td>1</td>\n",
       "      <td>1</td>\n",
       "      <td>4</td>\n",
       "    </tr>\n",
       "    <tr>\n",
       "      <th>4</th>\n",
       "      <td>R</td>\n",
       "      <td>1</td>\n",
       "      <td>1</td>\n",
       "      <td>1</td>\n",
       "      <td>5</td>\n",
       "    </tr>\n",
       "  </tbody>\n",
       "</table>\n",
       "</div>"
      ],
      "text/plain": [
       "  Class  L-Weight  L-Distance  R-Weight  R-Distance\n",
       "0     B         1           1         1           1\n",
       "1     R         1           1         1           2\n",
       "2     R         1           1         1           3\n",
       "3     R         1           1         1           4\n",
       "4     R         1           1         1           5"
      ]
     },
     "execution_count": 3,
     "metadata": {},
     "output_type": "execute_result"
    }
   ],
   "source": [
    "data.head()"
   ]
  },
  {
   "cell_type": "code",
   "execution_count": 4,
   "id": "b39fe026",
   "metadata": {},
   "outputs": [
    {
     "name": "stdout",
     "output_type": "stream",
     "text": [
      "<class 'pandas.core.frame.DataFrame'>\n",
      "RangeIndex: 625 entries, 0 to 624\n",
      "Data columns (total 5 columns):\n",
      " #   Column      Non-Null Count  Dtype \n",
      "---  ------      --------------  ----- \n",
      " 0   Class       625 non-null    object\n",
      " 1   L-Weight    625 non-null    int64 \n",
      " 2   L-Distance  625 non-null    int64 \n",
      " 3   R-Weight    625 non-null    int64 \n",
      " 4   R-Distance  625 non-null    int64 \n",
      "dtypes: int64(4), object(1)\n",
      "memory usage: 24.5+ KB\n"
     ]
    }
   ],
   "source": [
    "data.info()"
   ]
  },
  {
   "cell_type": "code",
   "execution_count": 5,
   "id": "09b862c8",
   "metadata": {},
   "outputs": [],
   "source": [
    "data['Class'].value_counts()\n",
    "data_B = data[data['Class']=='B']\n",
    "data_L = data[data['Class']=='L'][:49]\n",
    "data_R = data[data['Class']=='R'][:49]"
   ]
  },
  {
   "cell_type": "code",
   "execution_count": 6,
   "id": "9a81d5d2",
   "metadata": {},
   "outputs": [
    {
     "name": "stdout",
     "output_type": "stream",
     "text": [
      "   Class  L-Weight  L-Distance  R-Weight  R-Distance\n",
      "0      B         1           1         1           1\n",
      "26     B         1           2         1           2\n",
      "30     B         1           2         2           1\n",
      "52     B         1           3         1           3\n",
      "60     B         1           3         3           1\n"
     ]
    },
    {
     "data": {
      "text/html": [
       "<div>\n",
       "<style scoped>\n",
       "    .dataframe tbody tr th:only-of-type {\n",
       "        vertical-align: middle;\n",
       "    }\n",
       "\n",
       "    .dataframe tbody tr th {\n",
       "        vertical-align: top;\n",
       "    }\n",
       "\n",
       "    .dataframe thead th {\n",
       "        text-align: right;\n",
       "    }\n",
       "</style>\n",
       "<table border=\"1\" class=\"dataframe\">\n",
       "  <thead>\n",
       "    <tr style=\"text-align: right;\">\n",
       "      <th></th>\n",
       "      <th>Class</th>\n",
       "      <th>L-Weight</th>\n",
       "      <th>L-Distance</th>\n",
       "      <th>R-Weight</th>\n",
       "      <th>R-Distance</th>\n",
       "    </tr>\n",
       "  </thead>\n",
       "  <tbody>\n",
       "    <tr>\n",
       "      <th>0</th>\n",
       "      <td>B</td>\n",
       "      <td>1</td>\n",
       "      <td>1</td>\n",
       "      <td>1</td>\n",
       "      <td>1</td>\n",
       "    </tr>\n",
       "    <tr>\n",
       "      <th>1</th>\n",
       "      <td>B</td>\n",
       "      <td>1</td>\n",
       "      <td>2</td>\n",
       "      <td>1</td>\n",
       "      <td>2</td>\n",
       "    </tr>\n",
       "    <tr>\n",
       "      <th>2</th>\n",
       "      <td>B</td>\n",
       "      <td>1</td>\n",
       "      <td>2</td>\n",
       "      <td>2</td>\n",
       "      <td>1</td>\n",
       "    </tr>\n",
       "    <tr>\n",
       "      <th>3</th>\n",
       "      <td>B</td>\n",
       "      <td>1</td>\n",
       "      <td>3</td>\n",
       "      <td>1</td>\n",
       "      <td>3</td>\n",
       "    </tr>\n",
       "    <tr>\n",
       "      <th>4</th>\n",
       "      <td>B</td>\n",
       "      <td>1</td>\n",
       "      <td>3</td>\n",
       "      <td>3</td>\n",
       "      <td>1</td>\n",
       "    </tr>\n",
       "    <tr>\n",
       "      <th>...</th>\n",
       "      <td>...</td>\n",
       "      <td>...</td>\n",
       "      <td>...</td>\n",
       "      <td>...</td>\n",
       "      <td>...</td>\n",
       "    </tr>\n",
       "    <tr>\n",
       "      <th>142</th>\n",
       "      <td>R</td>\n",
       "      <td>1</td>\n",
       "      <td>2</td>\n",
       "      <td>5</td>\n",
       "      <td>4</td>\n",
       "    </tr>\n",
       "    <tr>\n",
       "      <th>143</th>\n",
       "      <td>R</td>\n",
       "      <td>1</td>\n",
       "      <td>2</td>\n",
       "      <td>5</td>\n",
       "      <td>5</td>\n",
       "    </tr>\n",
       "    <tr>\n",
       "      <th>144</th>\n",
       "      <td>R</td>\n",
       "      <td>1</td>\n",
       "      <td>3</td>\n",
       "      <td>1</td>\n",
       "      <td>4</td>\n",
       "    </tr>\n",
       "    <tr>\n",
       "      <th>145</th>\n",
       "      <td>R</td>\n",
       "      <td>1</td>\n",
       "      <td>3</td>\n",
       "      <td>1</td>\n",
       "      <td>5</td>\n",
       "    </tr>\n",
       "    <tr>\n",
       "      <th>146</th>\n",
       "      <td>R</td>\n",
       "      <td>1</td>\n",
       "      <td>3</td>\n",
       "      <td>2</td>\n",
       "      <td>2</td>\n",
       "    </tr>\n",
       "  </tbody>\n",
       "</table>\n",
       "<p>147 rows × 5 columns</p>\n",
       "</div>"
      ],
      "text/plain": [
       "    Class  L-Weight  L-Distance  R-Weight  R-Distance\n",
       "0       B         1           1         1           1\n",
       "1       B         1           2         1           2\n",
       "2       B         1           2         2           1\n",
       "3       B         1           3         1           3\n",
       "4       B         1           3         3           1\n",
       "..    ...       ...         ...       ...         ...\n",
       "142     R         1           2         5           4\n",
       "143     R         1           2         5           5\n",
       "144     R         1           3         1           4\n",
       "145     R         1           3         1           5\n",
       "146     R         1           3         2           2\n",
       "\n",
       "[147 rows x 5 columns]"
      ]
     },
     "execution_count": 6,
     "metadata": {},
     "output_type": "execute_result"
    }
   ],
   "source": [
    "data = pd.concat([data_B, data_L, data_R], axis=0)\n",
    "print(data.head())\n",
    "data.reset_index(inplace=True, drop=True)\n",
    "data"
   ]
  },
  {
   "cell_type": "code",
   "execution_count": 7,
   "id": "f7e32f84",
   "metadata": {},
   "outputs": [],
   "source": [
    "from sklearn.preprocessing import LabelEncoder"
   ]
  },
  {
   "cell_type": "code",
   "execution_count": 8,
   "id": "66a44d7e",
   "metadata": {},
   "outputs": [],
   "source": [
    "le = LabelEncoder()\n",
    "data['Class']= le.fit_transform(data['Class'])"
   ]
  },
  {
   "cell_type": "code",
   "execution_count": 22,
   "id": "af63d566",
   "metadata": {},
   "outputs": [],
   "source": [
    "Y = data['Class'].values.reshape(-1,1)\n",
    "X = data[['L-Weight','L-Distance','R-Weight','R-Distance']].values"
   ]
  },
  {
   "cell_type": "code",
   "execution_count": 33,
   "id": "f2155dba",
   "metadata": {},
   "outputs": [
    {
     "name": "stdout",
     "output_type": "stream",
     "text": [
      "[[1 1 1 1]\n",
      " [1 2 1 2]\n",
      " [1 2 2 1]\n",
      " [1 3 1 3]\n",
      " [1 3 3 1]\n",
      " [1 4 1 4]\n",
      " [1 4 2 2]\n",
      " [1 4 4 1]\n",
      " [1 5 1 5]\n",
      " [1 5 5 1]\n",
      " [2 1 1 2]\n",
      " [2 1 2 1]\n",
      " [2 2 1 4]\n",
      " [2 2 2 2]\n",
      " [2 2 4 1]\n",
      " [2 3 2 3]\n",
      " [2 3 3 2]\n",
      " [2 4 2 4]\n",
      " [2 4 4 2]\n",
      " [2 5 2 5]\n",
      " [2 5 5 2]\n",
      " [3 1 1 3]\n",
      " [3 1 3 1]\n",
      " [3 2 2 3]\n",
      " [3 2 3 2]\n",
      " [3 3 3 3]\n",
      " [3 4 3 4]\n",
      " [3 4 4 3]\n",
      " [3 5 3 5]\n",
      " [3 5 5 3]\n",
      " [4 1 1 4]\n",
      " [4 1 2 2]\n",
      " [4 1 4 1]\n",
      " [4 2 2 4]\n",
      " [4 2 4 2]\n",
      " [4 3 3 4]\n",
      " [4 3 4 3]\n",
      " [4 4 4 4]\n",
      " [4 5 4 5]\n",
      " [4 5 5 4]\n",
      " [5 1 1 5]\n",
      " [5 1 5 1]\n",
      " [5 2 2 5]\n",
      " [5 2 5 2]\n",
      " [5 3 3 5]\n",
      " [5 3 5 3]\n",
      " [5 4 4 5]\n",
      " [5 4 5 4]\n",
      " [5 5 5 5]\n",
      " [1 2 1 1]\n",
      " [1 3 1 1]\n",
      " [1 3 1 2]\n",
      " [1 3 2 1]\n",
      " [1 4 1 1]\n",
      " [1 4 1 2]\n",
      " [1 4 1 3]\n",
      " [1 4 2 1]\n",
      " [1 4 3 1]\n",
      " [1 5 1 1]\n",
      " [1 5 1 2]\n",
      " [1 5 1 3]\n",
      " [1 5 1 4]\n",
      " [1 5 2 1]\n",
      " [1 5 2 2]\n",
      " [1 5 3 1]\n",
      " [1 5 4 1]\n",
      " [2 1 1 1]\n",
      " [2 2 1 1]\n",
      " [2 2 1 2]\n",
      " [2 2 1 3]\n",
      " [2 2 2 1]\n",
      " [2 2 3 1]\n",
      " [2 3 1 1]\n",
      " [2 3 1 2]\n",
      " [2 3 1 3]\n",
      " [2 3 1 4]\n",
      " [2 3 1 5]\n",
      " [2 3 2 1]\n",
      " [2 3 2 2]\n",
      " [2 3 3 1]\n",
      " [2 3 4 1]\n",
      " [2 3 5 1]\n",
      " [2 4 1 1]\n",
      " [2 4 1 2]\n",
      " [2 4 1 3]\n",
      " [2 4 1 4]\n",
      " [2 4 1 5]\n",
      " [2 4 2 1]\n",
      " [2 4 2 2]\n",
      " [2 4 2 3]\n",
      " [2 4 3 1]\n",
      " [2 4 3 2]\n",
      " [2 4 4 1]\n",
      " [2 4 5 1]\n",
      " [2 5 1 1]\n",
      " [2 5 1 2]\n",
      " [2 5 1 3]\n",
      " [2 5 1 4]\n",
      " [1 1 1 2]\n",
      " [1 1 1 3]\n",
      " [1 1 1 4]\n",
      " [1 1 1 5]\n",
      " [1 1 2 1]\n",
      " [1 1 2 2]\n",
      " [1 1 2 3]\n",
      " [1 1 2 4]\n",
      " [1 1 2 5]\n",
      " [1 1 3 1]\n",
      " [1 1 3 2]\n",
      " [1 1 3 3]\n",
      " [1 1 3 4]\n",
      " [1 1 3 5]\n",
      " [1 1 4 1]\n",
      " [1 1 4 2]\n",
      " [1 1 4 3]\n",
      " [1 1 4 4]\n",
      " [1 1 4 5]\n",
      " [1 1 5 1]\n",
      " [1 1 5 2]\n",
      " [1 1 5 3]\n",
      " [1 1 5 4]\n",
      " [1 1 5 5]\n",
      " [1 2 1 3]\n",
      " [1 2 1 4]\n",
      " [1 2 1 5]\n",
      " [1 2 2 2]\n",
      " [1 2 2 3]\n",
      " [1 2 2 4]\n",
      " [1 2 2 5]\n",
      " [1 2 3 1]\n",
      " [1 2 3 2]\n",
      " [1 2 3 3]\n",
      " [1 2 3 4]\n",
      " [1 2 3 5]\n",
      " [1 2 4 1]\n",
      " [1 2 4 2]\n",
      " [1 2 4 3]\n",
      " [1 2 4 4]\n",
      " [1 2 4 5]\n",
      " [1 2 5 1]\n",
      " [1 2 5 2]\n",
      " [1 2 5 3]\n",
      " [1 2 5 4]\n",
      " [1 2 5 5]\n",
      " [1 3 1 4]\n",
      " [1 3 1 5]\n",
      " [1 3 2 2]]\n",
      "[[0]\n",
      " [0]\n",
      " [0]\n",
      " [0]\n",
      " [0]\n",
      " [0]\n",
      " [0]\n",
      " [0]\n",
      " [0]\n",
      " [0]\n",
      " [0]\n",
      " [0]\n",
      " [0]\n",
      " [0]\n",
      " [0]\n",
      " [0]\n",
      " [0]\n",
      " [0]\n",
      " [0]\n",
      " [0]\n",
      " [0]\n",
      " [0]\n",
      " [0]\n",
      " [0]\n",
      " [0]\n",
      " [0]\n",
      " [0]\n",
      " [0]\n",
      " [0]\n",
      " [0]\n",
      " [0]\n",
      " [0]\n",
      " [0]\n",
      " [0]\n",
      " [0]\n",
      " [0]\n",
      " [0]\n",
      " [0]\n",
      " [0]\n",
      " [0]\n",
      " [0]\n",
      " [0]\n",
      " [0]\n",
      " [0]\n",
      " [0]\n",
      " [0]\n",
      " [0]\n",
      " [0]\n",
      " [0]\n",
      " [1]\n",
      " [1]\n",
      " [1]\n",
      " [1]\n",
      " [1]\n",
      " [1]\n",
      " [1]\n",
      " [1]\n",
      " [1]\n",
      " [1]\n",
      " [1]\n",
      " [1]\n",
      " [1]\n",
      " [1]\n",
      " [1]\n",
      " [1]\n",
      " [1]\n",
      " [1]\n",
      " [1]\n",
      " [1]\n",
      " [1]\n",
      " [1]\n",
      " [1]\n",
      " [1]\n",
      " [1]\n",
      " [1]\n",
      " [1]\n",
      " [1]\n",
      " [1]\n",
      " [1]\n",
      " [1]\n",
      " [1]\n",
      " [1]\n",
      " [1]\n",
      " [1]\n",
      " [1]\n",
      " [1]\n",
      " [1]\n",
      " [1]\n",
      " [1]\n",
      " [1]\n",
      " [1]\n",
      " [1]\n",
      " [1]\n",
      " [1]\n",
      " [1]\n",
      " [1]\n",
      " [1]\n",
      " [1]\n",
      " [2]\n",
      " [2]\n",
      " [2]\n",
      " [2]\n",
      " [2]\n",
      " [2]\n",
      " [2]\n",
      " [2]\n",
      " [2]\n",
      " [2]\n",
      " [2]\n",
      " [2]\n",
      " [2]\n",
      " [2]\n",
      " [2]\n",
      " [2]\n",
      " [2]\n",
      " [2]\n",
      " [2]\n",
      " [2]\n",
      " [2]\n",
      " [2]\n",
      " [2]\n",
      " [2]\n",
      " [2]\n",
      " [2]\n",
      " [2]\n",
      " [2]\n",
      " [2]\n",
      " [2]\n",
      " [2]\n",
      " [2]\n",
      " [2]\n",
      " [2]\n",
      " [2]\n",
      " [2]\n",
      " [2]\n",
      " [2]\n",
      " [2]\n",
      " [2]\n",
      " [2]\n",
      " [2]\n",
      " [2]\n",
      " [2]\n",
      " [2]\n",
      " [2]\n",
      " [2]\n",
      " [2]\n",
      " [2]]\n"
     ]
    }
   ],
   "source": [
    "print(X)\n",
    "print(Y)"
   ]
  },
  {
   "cell_type": "code",
   "execution_count": 23,
   "id": "27d13211",
   "metadata": {},
   "outputs": [
    {
     "name": "stdout",
     "output_type": "stream",
     "text": [
      "(102, 4)\n",
      "(45, 4)\n"
     ]
    }
   ],
   "source": [
    "X_train, X_test, y_train, y_test = train_test_split(X, Y, test_size=0.3)\n",
    "print(X_train.shape)\n",
    "print(X_test.shape)"
   ]
  },
  {
   "cell_type": "code",
   "execution_count": 24,
   "id": "833dab61",
   "metadata": {},
   "outputs": [],
   "source": [
    "from sklearn.naive_bayes import MultinomialNB\n",
    "from sklearn.metrics import confusion_matrix, ConfusionMatrixDisplay,classification_report,roc_auc_score,roc_curve,plot_roc_curve,precision_score,recall_score,f1_score,matthews_corrcoef"
   ]
  },
  {
   "cell_type": "code",
   "execution_count": 25,
   "id": "388a6529",
   "metadata": {},
   "outputs": [
    {
     "name": "stderr",
     "output_type": "stream",
     "text": [
      "C:\\Users\\DELL\\anaconda3\\lib\\site-packages\\sklearn\\utils\\validation.py:993: DataConversionWarning: A column-vector y was passed when a 1d array was expected. Please change the shape of y to (n_samples, ), for example using ravel().\n",
      "  y = column_or_1d(y, warn=True)\n"
     ]
    },
    {
     "data": {
      "text/plain": [
       "MultinomialNB()"
      ]
     },
     "execution_count": 25,
     "metadata": {},
     "output_type": "execute_result"
    }
   ],
   "source": [
    "model = MultinomialNB()\n",
    "model.fit(X_train,y_train)"
   ]
  },
  {
   "cell_type": "code",
   "execution_count": 26,
   "id": "7aa69074",
   "metadata": {},
   "outputs": [
    {
     "data": {
      "image/png": "[encoded data removed]",
      "text/plain": [
       "<Figure size 432x288 with 2 Axes>"
      ]
     },
     "metadata": {
      "needs_background": "light"
     },
     "output_type": "display_data"
    }
   ],
   "source": [
    "pred_train = model.predict(X_train)\n",
    "cm = confusion_matrix(y_train, pred_train, labels=model.classes_)\n",
    "disp=ConfusionMatrixDisplay(confusion_matrix=cm,display_labels=model.classes_)\n",
    "disp.plot()\n",
    "plt.show()"
   ]
  },
  {
   "cell_type": "code",
   "execution_count": 27,
   "id": "3158b891",
   "metadata": {},
   "outputs": [
    {
     "data": {
      "image/png": "[encoded data removed]",
      "text/plain": [
       "<Figure size 432x288 with 2 Axes>"
      ]
     },
     "metadata": {
      "needs_background": "light"
     },
     "output_type": "display_data"
    }
   ],
   "source": [
    "pred_test = model.predict(X_test)\n",
    "cm = confusion_matrix(y_test, pred_test, labels=model.classes_)\n",
    "disp=ConfusionMatrixDisplay(confusion_matrix=cm,display_labels=model.classes_)\n",
    "disp.plot()\n",
    "plt.show()"
   ]
  },
  {
   "cell_type": "code",
   "execution_count": 34,
   "id": "36f46c3c",
   "metadata": {},
   "outputs": [
    {
     "name": "stdout",
     "output_type": "stream",
     "text": [
      "0.9212118108892303\n"
     ]
    }
   ],
   "source": [
    "y_proba = model.predict_proba(X_test)\n",
    "rac = roc_auc_score(y_test,y_proba,average='macro',multi_class='ovr')\n",
    "print(rac)"
   ]
  },
  {
   "cell_type": "code",
   "execution_count": 1,
   "id": "7b610780",
   "metadata": {},
   "outputs": [],
   "source": [
    "# help(roc_curve)"
   ]
  },
  {
   "cell_type": "code",
   "execution_count": 47,
   "id": "6cf580f8",
   "metadata": {},
   "outputs": [
    {
     "data": {
      "text/plain": [
       "<matplotlib.legend.Legend at 0x13ad58eaa00>"
      ]
     },
     "execution_count": 47,
     "metadata": {},
     "output_type": "execute_result"
    },
    {
     "data": {
      "image/png": "[encoded data removed]",
      "text/plain": [
       "<Figure size 432x288 with 1 Axes>"
      ]
     },
     "metadata": {
      "needs_background": "light"
     },
     "output_type": "display_data"
    }
   ],
   "source": [
    "fpr = {}\n",
    "tpr = {}\n",
    "threshold = {}\n",
    "classes = 3\n",
    "\n",
    "for i in range(classes):\n",
    "    fpr[i], tpr[i], threshold[i] = roc_curve(y_test,y_proba[:,i],pos_label=i)\n",
    "plt.plot(fpr[0],tpr[0],linestyle =\"-\",c='b',label='Balanced vs rest')\n",
    "plt.plot(fpr[1],tpr[1],linestyle =\"-\",c='r',label='right vs rest')\n",
    "plt.plot(fpr[2],tpr[2],linestyle =\"-\",c='g',label='left vs rest')\n",
    "plt.plot([[0,0],[1,1]],linestyle=\"--\",c='black')\n",
    "plt.legend()"
   ]
  },
  {
   "cell_type": "code",
   "execution_count": null,
   "id": "b7d382d3",
   "metadata": {},
   "outputs": [],
   "source": []
  }
 ],
 "metadata": {
  "kernelspec": {
   "display_name": "Python 3 (ipykernel)",
   "language": "python",
   "name": "python3"
  },
  "language_info": {
   "codemirror_mode": {
    "name": "ipython",
    "version": 3
   },
   "file_extension": ".py",
   "mimetype": "text/x-python",
   "name": "python",
   "nbconvert_exporter": "python",
   "pygments_lexer": "ipython3",
   "version": "3.9.12"
  }
 },
 "nbformat": 4,
 "nbformat_minor": 5
}
